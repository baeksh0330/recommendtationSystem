{
  "cells": [
    {
      "cell_type": "code",
      "execution_count": null,
      "metadata": {
        "colab": {
          "base_uri": "https://localhost:8080/"
        },
        "id": "IM0H9RAz1S22",
        "outputId": "e68dfedc-45dd-493c-d275-1fb539cdd97d"
      },
      "outputs": [
        {
          "name": "stdout",
          "output_type": "stream",
          "text": [
            "Mounted at /content/drive\n"
          ]
        }
      ],
      "source": [
        "#mount drive\n",
        "from google.colab import drive\n",
        "drive.mount('/content/drive')"
      ]
    },
    {
      "cell_type": "code",
      "execution_count": 2,
      "metadata": {
        "colab": {
          "base_uri": "https://localhost:8080/"
        },
        "id": "SmCt71ua2t50",
        "outputId": "3dcf6113-8c75-4987-b291-62afc90a05d3"
      },
      "outputs": [
        {
          "name": "stdout",
          "output_type": "stream",
          "text": [
            "[USERS]\n",
            "   Unnamed: 0   user_id  products  reviews\n",
            "0     1736115  11852994      54.0      6.0\n",
            "1     8596407  11922584      61.0      6.0\n",
            "2    10946128     19816     108.0      6.0\n",
            "3     2051595  12587433      75.0      6.0\n",
            "4    12077575   1627105     118.0      6.0\n",
            "Number of rows and cols:  (11811106, 4)\n",
            "\n",
            "[GAMES]\n",
            "   Unnamed: 0  app_id                        title  date_release  win  mac   \n",
            "0       15005  282010         Carmageddon Max Pack          1997    1    0  \\\n",
            "1       31261  232770                       POSTAL          1997    1    1   \n",
            "2       47376      70                    Half-Life          1998    1    1   \n",
            "3       34507  224920  Legacy of Kain: Soul Reaver          1999    1    0   \n",
            "4        8617      20        Team Fortress Classic          1999    1    1   \n",
            "\n",
            "   linux  rating  positive_ratio  user_reviews  price_final  price_original   \n",
            "0      0      90              85           428         9.99            9.99  \\\n",
            "1      1      90              85          2329         0.00            0.00   \n",
            "2      1      95              96         72475         9.99            9.99   \n",
            "3      0      80              73          1467         0.00            0.00   \n",
            "4      1      90              85          5146         4.99            4.99   \n",
            "\n",
            "   discount  steam_deck  \n",
            "0       0.0           1  \n",
            "1       0.0           1  \n",
            "2       0.0           1  \n",
            "3       0.0           1  \n",
            "4       0.0           1  \n",
            "Number of rows and cols:  (50872, 14)\n"
          ]
        }
      ],
      "source": [
        "import warnings\n",
        "warnings.filterwarnings('ignore')\n",
        "import numpy as np\n",
        "import pandas as pd\n",
        "from sklearn.tree import DecisionTreeClassifier\n",
        "from sklearn.neighbors import NearestNeighbors\n",
        "from sklearn.model_selection import train_test_split\n",
        "from sklearn.preprocessing import LabelEncoder\n",
        "\n",
        "#import data\n",
        "print(\"[USERS]\")\n",
        "users = pd.read_csv(\"C:/MachineLearning TP/recommendtationSystem/users_preprocessing.csv\")\n",
        "print(users.head())\n",
        "print(\"Number of rows and cols: \", users.shape)\n",
        "\n",
        "print(\"\\n[GAMES]\")\n",
        "games = pd.read_csv(\"C:/MachineLearning TP/recommendtationSystem/games_preprocessing.csv\")\n",
        "print(games.head())\n",
        "print(\"Number of rows and cols: \", games.shape)"
      ]
    },
    {
      "cell_type": "code",
      "execution_count": 3,
      "metadata": {
        "id": "23Vr3CTw6JS4"
      },
      "outputs": [],
      "source": [
        "#Encode columns in games.csv\n",
        "labelEncoder = LabelEncoder()\n",
        "games['rating'] = labelEncoder.fit_transform(games['rating'])\n",
        "games['win'] = labelEncoder.fit_transform(games['win'])\n",
        "games['mac'] = labelEncoder.fit_transform(games['mac'])"
      ]
    },
    {
      "cell_type": "code",
      "execution_count": 4,
      "metadata": {
        "id": "9vQLrHFh-OUI"
      },
      "outputs": [],
      "source": [
        "#train and test data\n",
        "X = games.drop(columns=['app_id','rating','title','date_release'])\n",
        "y = games['rating']\n",
        "\n",
        "X_train, X_test, y_train, y_test = train_test_split(X, y, test_size=0.25)"
      ]
    },
    {
      "cell_type": "code",
      "execution_count": 5,
      "metadata": {
        "id": "EMXU6R4B-lLW"
      },
      "outputs": [],
      "source": [
        "#knn\n",
        "knn = NearestNeighbors(metric='cosine', algorithm='brute')\n",
        "knn.fit(X_train)\n",
        "neighbors = knn.kneighbors(X_test)"
      ]
    },
    {
      "cell_type": "code",
      "execution_count": 6,
      "metadata": {
        "id": "27oFntja7e1a"
      },
      "outputs": [],
      "source": [
        "#content-based\n",
        "def content_based(app_id):\n",
        "    #Decision Tree Classifier\n",
        "    X1 = games.drop(columns=['app_id','rating','title','date_release'])\n",
        "    y1 = games['title']\n",
        "    dtc = DecisionTreeClassifier()\n",
        "    dtc.fit(X,y)\n",
        "    #find out similar games\n",
        "    index = games.index[games['app_id'] == app_id][0]\n",
        "    recommended_game = dtc.predict([X1.loc[index]])[0]\n",
        "    return recommended_game"
      ]
    },
    {
      "cell_type": "code",
      "execution_count": 14,
      "metadata": {
        "id": "qAvyWa79-sKL"
      },
      "outputs": [],
      "source": [
        "#item-based\n",
        "def item_based(app_id):\n",
        "    index = games.index[games['app_id'] == app_id][0]\n",
        "    _, indices = knn.kneighbors([X.loc[index]])\n",
        "    game = indices.flatten()[1]\n",
        "    recommended_game = games.loc[game, 'app_id']\n",
        "    return recommended_game"
      ]
    },
    {
      "cell_type": "code",
      "execution_count": 15,
      "metadata": {
        "colab": {
          "base_uri": "https://localhost:8080/"
        },
        "id": "_zDa6flw88dT",
        "outputId": "519d7058-5e4f-497c-c8d5-6e8c4c0e7d61"
      },
      "outputs": [
        {
          "name": "stdout",
          "output_type": "stream",
          "text": [
            "Recommended game by content-based filtering: 8\n",
            "Recommended game by item-based filtering: 1424720\n",
            "30022\n"
          ]
        }
      ],
      "source": [
        "#recommend games\n",
        "#get app id\n",
        "app_id=70\n",
        "\n",
        "#content based\n",
        "cb_recommended = content_based(app_id)\n",
        "print(\"Recommended game by content-based filtering:\", cb_recommended)\n",
        "\n",
        "#item based\n",
        "ib_recommended = item_based(app_id)\n",
        "print(\"Recommended game by item-based filtering:\", ib_recommended)\n",
        "print(game)"
      ]
    }
  ],
  "metadata": {
    "colab": {
      "provenance": []
    },
    "kernelspec": {
      "display_name": "Python 3",
      "name": "python3"
    },
    "language_info": {
      "codemirror_mode": {
        "name": "ipython",
        "version": 3
      },
      "file_extension": ".py",
      "mimetype": "text/x-python",
      "name": "python",
      "nbconvert_exporter": "python",
      "pygments_lexer": "ipython3",
      "version": "3.11.3"
    }
  },
  "nbformat": 4,
  "nbformat_minor": 0
}
