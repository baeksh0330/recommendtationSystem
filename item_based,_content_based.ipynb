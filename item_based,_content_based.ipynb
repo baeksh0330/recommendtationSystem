{
  "nbformat": 4,
  "nbformat_minor": 0,
  "metadata": {
    "colab": {
      "provenance": []
    },
    "kernelspec": {
      "name": "python3",
      "display_name": "Python 3"
    },
    "language_info": {
      "name": "python"
    }
  },
  "cells": [
    {
      "cell_type": "code",
      "execution_count": null,
      "metadata": {
        "id": "IM0H9RAz1S22",
        "colab": {
          "base_uri": "https://localhost:8080/"
        },
        "outputId": "e68dfedc-45dd-493c-d275-1fb539cdd97d"
      },
      "outputs": [
        {
          "output_type": "stream",
          "name": "stdout",
          "text": [
            "Mounted at /content/drive\n"
          ]
        }
      ],
      "source": [
        "#mount drive\n",
        "from google.colab import drive\n",
        "drive.mount('/content/drive')"
      ]
    },
    {
      "cell_type": "code",
      "source": [
        "import warnings\n",
        "warnings.filterwarnings('ignore')\n",
        "import numpy as np\n",
        "import pandas as pd\n",
        "from sklearn.tree import DecisionTreeClassifier\n",
        "from sklearn.neighbors import NearestNeighbors\n",
        "from sklearn.model_selection import train_test_split\n",
        "from sklearn.preprocessing import LabelEncoder\n",
        "\n",
        "#import data\n",
        "print(\"[USERS]\")\n",
        "users = pd.read_csv(\"/content/drive/MyDrive/users_preprocessing.csv\")\n",
        "print(users.head())\n",
        "print(\"Number of rows and cols: \", users.shape)\n",
        "\n",
        "print(\"\\n[GAMES]\")\n",
        "games = pd.read_csv(\"/content/drive/MyDrive/games_preprocessing.csv\")\n",
        "print(games.head())\n",
        "print(\"Number of rows and cols: \", games.shape)"
      ],
      "metadata": {
        "id": "SmCt71ua2t50",
        "colab": {
          "base_uri": "https://localhost:8080/"
        },
        "outputId": "3dcf6113-8c75-4987-b291-62afc90a05d3"
      },
      "execution_count": 2,
      "outputs": [
        {
          "output_type": "stream",
          "name": "stdout",
          "text": [
            "[USERS]\n",
            "   Unnamed: 0   user_id  products  reviews\n",
            "0     1736115  11852994      54.0      6.0\n",
            "1     8596407  11922584      61.0      6.0\n",
            "2    10946128     19816     108.0      6.0\n",
            "3     2051595  12587433      75.0      6.0\n",
            "4    12077575   1627105     118.0      6.0\n",
            "Number of rows and cols:  (11811106, 4)\n",
            "\n",
            "[GAMES]\n",
            "   Unnamed: 0  app_id                        title date_release   win    mac  \\\n",
            "0       15005  282010         Carmageddon Max Pack   1997-06-30  True  False   \n",
            "1       31261  232770                       POSTAL   1997-11-14  True   True   \n",
            "2       47376      70                    Half-Life   1998-11-08  True   True   \n",
            "3        8617      20        Team Fortress Classic   1999-04-01  True   True   \n",
            "4       34507  224920  Legacy of Kain: Soul Reaver   1999-09-08  True  False   \n",
            "\n",
            "   linux                   rating  positive_ratio  user_reviews  price_final  \\\n",
            "0  False            Very Positive              85           428         9.99   \n",
            "1   True            Very Positive              85          2329         0.00   \n",
            "2   True  Overwhelmingly Positive              96         72475         9.99   \n",
            "3   True            Very Positive              85          5146         4.99   \n",
            "4  False          Mostly Positive              73          1467         0.00   \n",
            "\n",
            "   price_original  discount  steam_deck  \n",
            "0            9.99       0.0        True  \n",
            "1            0.00       0.0        True  \n",
            "2            9.99       0.0        True  \n",
            "3            4.99       0.0        True  \n",
            "4            0.00       0.0        True  \n",
            "Number of rows and cols:  (50872, 14)\n"
          ]
        }
      ]
    },
    {
      "cell_type": "code",
      "source": [
        "#Encode columns in games.csv\n",
        "labelEncoder = LabelEncoder()\n",
        "games['rating'] = labelEncoder.fit_transform(games['rating'])\n",
        "games['win'] = labelEncoder.fit_transform(games['win'])\n",
        "games['mac'] = labelEncoder.fit_transform(games['mac'])"
      ],
      "metadata": {
        "id": "23Vr3CTw6JS4"
      },
      "execution_count": 3,
      "outputs": []
    },
    {
      "cell_type": "code",
      "source": [
        "#train and test data\n",
        "X = games.drop(columns=['app_id','rating','title','date_release'])\n",
        "y = games['rating']\n",
        "\n",
        "X_train, X_test, y_train, y_test = train_test_split(X, y, test_size=0.25)"
      ],
      "metadata": {
        "id": "9vQLrHFh-OUI"
      },
      "execution_count": 4,
      "outputs": []
    },
    {
      "cell_type": "code",
      "source": [
        "#knn\n",
        "knn = NearestNeighbors(metric='cosine', algorithm='brute')\n",
        "knn.fit(X_train)\n",
        "neighbors = knn.kneighbors(X_test)"
      ],
      "metadata": {
        "id": "EMXU6R4B-lLW"
      },
      "execution_count": 5,
      "outputs": []
    },
    {
      "cell_type": "code",
      "source": [
        "#content-based\n",
        "def content_based(app_id):\n",
        "    #Decision Tree Classifier\n",
        "    X1 = games.drop(columns=['app_id','rating','title','date_release'])\n",
        "    y1 = games['title']\n",
        "    dtc = DecisionTreeClassifier()\n",
        "    dtc.fit(X,y)\n",
        "    #find out similar games\n",
        "    index = games.index[games['app_id'] == app_id][0]\n",
        "    recommended_game = dtc.predict([X1.loc[index]])[0]\n",
        "    return recommended_game"
      ],
      "metadata": {
        "id": "27oFntja7e1a"
      },
      "execution_count": 11,
      "outputs": []
    },
    {
      "cell_type": "code",
      "source": [
        "#item-based\n",
        "def item_based(app_id):\n",
        "    index = games.index[games['app_id'] == app_id][0]\n",
        "    _, indices = knn.kneighbors([X.loc[index]])\n",
        "    game = indices.flatten()[1]\n",
        "    recommended_game = games.loc[game, 'app_id']\n",
        "    return recommended_game"
      ],
      "metadata": {
        "id": "qAvyWa79-sKL"
      },
      "execution_count": 12,
      "outputs": []
    },
    {
      "cell_type": "code",
      "source": [
        "#recommend games\n",
        "#get app id\n",
        "app_id=70\n",
        "\n",
        "#content based\n",
        "cb_recommended = content_based(app_id)\n",
        "print(\"Recommended game by content-based filtering:\", cb_recommended)\n",
        "\n",
        "#item based\n",
        "ib_recommended = item_based(app_id)\n",
        "print(\"Recommended game by item-based filtering:\", ib_recommended)"
      ],
      "metadata": {
        "colab": {
          "base_uri": "https://localhost:8080/"
        },
        "id": "_zDa6flw88dT",
        "outputId": "519d7058-5e4f-497c-c8d5-6e8c4c0e7d61"
      },
      "execution_count": 13,
      "outputs": [
        {
          "output_type": "stream",
          "name": "stdout",
          "text": [
            "Recommended game by content-based filtering: 5\n",
            "Recommended game by item-based filtering: 1158850\n"
          ]
        }
      ]
    }
  ]
}