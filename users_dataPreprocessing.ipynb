{
 "cells": [
  {
   "cell_type": "code",
   "execution_count": 6,
   "metadata": {
    "colab": {
     "base_uri": "https://localhost:8080/"
    },
    "id": "fnwASYJOUWcP",
    "outputId": "c744c87e-306f-4faf-ebbd-f5a71a9ce071"
   },
   "outputs": [
    {
     "ename": "ModuleNotFoundError",
     "evalue": "No module named 'google.colab'",
     "output_type": "error",
     "traceback": [
      "\u001b[0;31m---------------------------------------------------------------------------\u001b[0m",
      "\u001b[0;31mModuleNotFoundError\u001b[0m                       Traceback (most recent call last)",
      "Cell \u001b[0;32mIn[6], line 3\u001b[0m\n\u001b[1;32m      1\u001b[0m \u001b[38;5;66;03m#mount drive\u001b[39;00m\n\u001b[1;32m      2\u001b[0m \u001b[38;5;66;03m#google colab 사용하여 작성했기 때문에 해당 부분 run 하지 않아도 무관\u001b[39;00m\n\u001b[0;32m----> 3\u001b[0m \u001b[38;5;28;01mfrom\u001b[39;00m \u001b[38;5;21;01mgoogle\u001b[39;00m\u001b[38;5;21;01m.\u001b[39;00m\u001b[38;5;21;01mcolab\u001b[39;00m \u001b[38;5;28;01mimport\u001b[39;00m drive\n\u001b[1;32m      4\u001b[0m drive\u001b[38;5;241m.\u001b[39mmount(\u001b[38;5;124m'\u001b[39m\u001b[38;5;124m/content/drive\u001b[39m\u001b[38;5;124m'\u001b[39m)\n",
      "\u001b[0;31mModuleNotFoundError\u001b[0m: No module named 'google.colab'"
     ]
    }
   ],
   "source": [
    "#mount drive\n",
    "#google colab 사용하여 작성했기 때문에 해당 부분 run 하지 않아도 무관\n",
    "from google.colab import drive\n",
    "drive.mount('/content/drive')"
   ]
  },
  {
   "cell_type": "code",
   "execution_count": 19,
   "metadata": {
    "colab": {
     "base_uri": "https://localhost:8080/"
    },
    "id": "bmdEa6kzUXS8",
    "outputId": "119909bc-eee6-4ff3-96ec-e89b67620eb8"
   },
   "outputs": [
    {
     "name": "stdout",
     "output_type": "stream",
     "text": [
      "    user_id  products  reviews\n",
      "0   7090995       359        0\n",
      "1  13511788       156        1\n",
      "2   8444727       329        4\n",
      "3   4632233       176        3\n",
      "4   4968781        98        2\n",
      "Number of rows and cols:  (13786778, 3)\n"
     ]
    }
   ],
   "source": [
    "import numpy as np\n",
    "import pandas as pd\n",
    "import matplotlib.pyplot as plt\n",
    "import seaborn as sns\n",
    "\n",
    "#import data\n",
    "#google colab 사용하여 작성. colab으로 아래 코드 실행시 [드라이브 마운트] -> [경로 복사] 하여 실행 바람 \n",
    "users = pd.read_csv(\"users.csv\")\n",
    "print(users.head())\n",
    "print(\"Number of rows and cols: \", users.shape)"
   ]
  },
  {
   "cell_type": "code",
   "execution_count": 20,
   "metadata": {
    "colab": {
     "base_uri": "https://localhost:8080/"
    },
    "id": "_SRa5bW-Vosr",
    "outputId": "d3fcf93f-5ce9-4f9b-8b29-25af9fb8ac75"
   },
   "outputs": [
    {
     "name": "stdout",
     "output_type": "stream",
     "text": [
      "[NUMBER OF OUTLIERS IN EACH FEATURE]\n",
      "user_id           0\n",
      "products    1218412\n",
      "reviews     1081778\n",
      "dtype: int64\n"
     ]
    }
   ],
   "source": [
    "#print number of outliers in each feature\n",
    "Q1 = users.quantile(0.25)\n",
    "Q3 = users.quantile(0.75)\n",
    "IQR = Q3 - Q1\n",
    "users = users[~((users < (Q1-1.5*IQR)) | (users > (Q3+1.5*IQR)))]\n",
    "users.fillna(np.nan)\n",
    "print('[NUMBER OF OUTLIERS IN EACH FEATURE]')\n",
    "print(users.isna().sum(axis=0))"
   ]
  },
  {
   "cell_type": "code",
   "execution_count": 21,
   "metadata": {
    "colab": {
     "base_uri": "https://localhost:8080/"
    },
    "id": "6NfzOV0iV7ER",
    "outputId": "dafb0417-db50-4f66-e3a6-3d26b1b849f2"
   },
   "outputs": [
    {
     "name": "stdout",
     "output_type": "stream",
     "text": [
      "[DROP OUTLIERS]\n",
      "Before:  13786778\n",
      "After:  11811106\n"
     ]
    }
   ],
   "source": [
    "#drop dirty data\n",
    "print(\"[DROP OUTLIERS]\")\n",
    "print(\"Before: \", users.shape[0])\n",
    "users = users.dropna()\n",
    "print(\"After: \", users.shape[0])"
   ]
  },
  {
   "cell_type": "code",
   "execution_count": 22,
   "metadata": {
    "colab": {
     "base_uri": "https://localhost:8080/"
    },
    "id": "SOUConmnWbH-",
    "outputId": "24b4fb8b-7aed-4c15-a247-9a88c50f86b5"
   },
   "outputs": [
    {
     "name": "stdout",
     "output_type": "stream",
     "text": [
      "[SORTED BY NUMBER OF PRODUCTS]\n",
      "          user_id  products  reviews\n",
      "6071086   1002852     285.0      4.0\n",
      "8691418  10318295     285.0      3.0\n",
      "8374704   7569613     285.0      2.0\n",
      "4765842  10977662     285.0      2.0\n",
      "6283993  11223453     285.0      1.0\n"
     ]
    }
   ],
   "source": [
    "#sort by number of products\n",
    "print(\"[SORTED BY NUMBER OF PRODUCTS]\")\n",
    "users = users.sort_values(by=\"products\", ascending=False)\n",
    "print(users.head())"
   ]
  },
  {
   "cell_type": "code",
   "execution_count": 23,
   "metadata": {
    "colab": {
     "base_uri": "https://localhost:8080/"
    },
    "id": "MkY9bQFJjNR8",
    "outputId": "7aeb8200-0e88-4622-c9fe-cd30cd2d90b9",
    "scrolled": true
   },
   "outputs": [
    {
     "name": "stdout",
     "output_type": "stream",
     "text": [
      "[SORTED BY NUMBER OF REVIEWS]\n",
      "           user_id  products  reviews\n",
      "1736115   11852994      54.0      6.0\n",
      "8596407   11922584      61.0      6.0\n",
      "10946128     19816     108.0      6.0\n",
      "2051595   12587433      75.0      6.0\n",
      "12077575   1627105     118.0      6.0\n"
     ]
    }
   ],
   "source": [
    "#sort by number of reviews\n",
    "print(\"[SORTED BY NUMBER OF REVIEWS]\")\n",
    "users = users.sort_values(by=\"reviews\", ascending=False)\n",
    "print(users.head())"
   ]
  },
  {
   "cell_type": "code",
   "execution_count": 24,
   "metadata": {},
   "outputs": [],
   "source": [
    "users.to_csv('users_preprocessing.csv')"
   ]
  }
 ],
 "metadata": {
  "colab": {
   "provenance": []
  },
  "kernelspec": {
   "display_name": "conda_python3",
   "language": "python",
   "name": "conda_python3"
  },
  "language_info": {
   "codemirror_mode": {
    "name": "ipython",
    "version": 3
   },
   "file_extension": ".py",
   "mimetype": "text/x-python",
   "name": "python",
   "nbconvert_exporter": "python",
   "pygments_lexer": "ipython3",
   "version": "3.10.13"
  }
 },
 "nbformat": 4,
 "nbformat_minor": 1
}
