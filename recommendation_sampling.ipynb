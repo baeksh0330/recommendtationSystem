{
 "cells": [
  {
   "cell_type": "code",
   "execution_count": 1,
   "id": "05aab18a",
   "metadata": {},
   "outputs": [],
   "source": [
    "import pandas as pd\n",
    "import numpy as np"
   ]
  },
  {
   "cell_type": "code",
   "execution_count": 2,
   "id": "f02fcc8d",
   "metadata": {},
   "outputs": [
    {
     "name": "stdout",
     "output_type": "stream",
     "text": [
      "<class 'pandas.core.frame.DataFrame'>\n",
      "RangeIndex: 9592525 entries, 0 to 9592524\n",
      "Data columns (total 8 columns):\n",
      " #   Column          Dtype  \n",
      "---  ------          -----  \n",
      " 0   app_id          int64  \n",
      " 1   helpful         int64  \n",
      " 2   funny           int64  \n",
      " 3   date            object \n",
      " 4   is_recommended  bool   \n",
      " 5   hours           float64\n",
      " 6   user_id         int64  \n",
      " 7   review_id       int64  \n",
      "dtypes: bool(1), float64(1), int64(5), object(1)\n",
      "memory usage: 521.4+ MB\n"
     ]
    }
   ],
   "source": [
    "filename = 'recommendations.csv'\n",
    "\n",
    "#비율 결정 (예시: 전체의 25퍼센트)\n",
    "frac = 0.25\n",
    "\n",
    "#동일값 출력을 위한 난수 고정\n",
    "np.random.seed(0)\n",
    "\n",
    "#랜덤으로 행을 스킵 스킵\n",
    "skiprows = lambda i: i > 0 and np.random.rand() > frac\n",
    "df_sample = pd.read_csv(filename, skiprows=skiprows)\n",
    "\n",
    "df_sample.info()\n"
   ]
  },
  {
   "cell_type": "code",
   "execution_count": 3,
   "id": "c87f102f",
   "metadata": {},
   "outputs": [
    {
     "data": {
      "text/html": [
       "<div>\n",
       "<style scoped>\n",
       "    .dataframe tbody tr th:only-of-type {\n",
       "        vertical-align: middle;\n",
       "    }\n",
       "\n",
       "    .dataframe tbody tr th {\n",
       "        vertical-align: top;\n",
       "    }\n",
       "\n",
       "    .dataframe thead th {\n",
       "        text-align: right;\n",
       "    }\n",
       "</style>\n",
       "<table border=\"1\" class=\"dataframe\">\n",
       "  <thead>\n",
       "    <tr style=\"text-align: right;\">\n",
       "      <th></th>\n",
       "      <th>app_id</th>\n",
       "      <th>helpful</th>\n",
       "      <th>funny</th>\n",
       "      <th>date</th>\n",
       "      <th>is_recommended</th>\n",
       "      <th>hours</th>\n",
       "      <th>user_id</th>\n",
       "      <th>review_id</th>\n",
       "    </tr>\n",
       "  </thead>\n",
       "  <tbody>\n",
       "    <tr>\n",
       "      <th>0</th>\n",
       "      <td>1172620</td>\n",
       "      <td>0</td>\n",
       "      <td>0</td>\n",
       "      <td>2020-11-04</td>\n",
       "      <td>True</td>\n",
       "      <td>89.1</td>\n",
       "      <td>117868</td>\n",
       "      <td>14</td>\n",
       "    </tr>\n",
       "    <tr>\n",
       "      <th>1</th>\n",
       "      <td>306130</td>\n",
       "      <td>0</td>\n",
       "      <td>0</td>\n",
       "      <td>2021-05-12</td>\n",
       "      <td>True</td>\n",
       "      <td>61.1</td>\n",
       "      <td>72528</td>\n",
       "      <td>15</td>\n",
       "    </tr>\n",
       "    <tr>\n",
       "      <th>2</th>\n",
       "      <td>635260</td>\n",
       "      <td>0</td>\n",
       "      <td>0</td>\n",
       "      <td>2022-01-30</td>\n",
       "      <td>True</td>\n",
       "      <td>177.0</td>\n",
       "      <td>73645</td>\n",
       "      <td>16</td>\n",
       "    </tr>\n",
       "    <tr>\n",
       "      <th>3</th>\n",
       "      <td>236850</td>\n",
       "      <td>23</td>\n",
       "      <td>4</td>\n",
       "      <td>2021-03-20</td>\n",
       "      <td>True</td>\n",
       "      <td>5.7</td>\n",
       "      <td>113677</td>\n",
       "      <td>24</td>\n",
       "    </tr>\n",
       "    <tr>\n",
       "      <th>4</th>\n",
       "      <td>304390</td>\n",
       "      <td>2</td>\n",
       "      <td>0</td>\n",
       "      <td>2017-03-23</td>\n",
       "      <td>False</td>\n",
       "      <td>180.6</td>\n",
       "      <td>380424</td>\n",
       "      <td>26</td>\n",
       "    </tr>\n",
       "  </tbody>\n",
       "</table>\n",
       "</div>"
      ],
      "text/plain": [
       "    app_id  helpful  funny        date  is_recommended  hours  user_id  \\\n",
       "0  1172620        0      0  2020-11-04            True   89.1   117868   \n",
       "1   306130        0      0  2021-05-12            True   61.1    72528   \n",
       "2   635260        0      0  2022-01-30            True  177.0    73645   \n",
       "3   236850       23      4  2021-03-20            True    5.7   113677   \n",
       "4   304390        2      0  2017-03-23           False  180.6   380424   \n",
       "\n",
       "   review_id  \n",
       "0         14  \n",
       "1         15  \n",
       "2         16  \n",
       "3         24  \n",
       "4         26  "
      ]
     },
     "execution_count": 3,
     "metadata": {},
     "output_type": "execute_result"
    }
   ],
   "source": [
    "df_sample.head()"
   ]
  },
  {
   "cell_type": "code",
   "execution_count": 4,
   "id": "26cbf453",
   "metadata": {},
   "outputs": [
    {
     "data": {
      "text/plain": [
       "'sampled_recommendations.csv'"
      ]
     },
     "execution_count": 4,
     "metadata": {},
     "output_type": "execute_result"
    }
   ],
   "source": [
    "#새로운 데이터 샘플로 출력\n",
    "output_filename = 'sampled_recommendations.csv'\n",
    "df_sample.to_csv(output_filename, index=False)\n",
    "\n",
    "output_filename"
   ]
  },
  {
   "cell_type": "code",
   "execution_count": null,
   "id": "eab01d88",
   "metadata": {},
   "outputs": [],
   "source": []
  }
 ],
 "metadata": {
  "kernelspec": {
   "display_name": "conda_tensorflow2_p310",
   "language": "python",
   "name": "conda_tensorflow2_p310"
  },
  "language_info": {
   "codemirror_mode": {
    "name": "ipython",
    "version": 3
   },
   "file_extension": ".py",
   "mimetype": "text/x-python",
   "name": "python",
   "nbconvert_exporter": "python",
   "pygments_lexer": "ipython3",
   "version": "3.10.13"
  }
 },
 "nbformat": 4,
 "nbformat_minor": 5
}
